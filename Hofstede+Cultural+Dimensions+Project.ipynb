{
 "cells": [
  {
   "cell_type": "code",
   "execution_count": 73,
   "metadata": {},
   "outputs": [
    {
     "name": "stdout",
     "output_type": "stream",
     "text": [
      "        Country   PDI   IDV   MAS   UAI    LTO\n",
      "1         Japan  54.0  46.0  95.0  92.0   80.0\n",
      "2       Hungary  46.0  55.0  88.0  82.0    NaN\n",
      "3       Austria  11.0  55.0  79.0  70.0    NaN\n",
      "4     Venezuela  81.0  12.0  73.0  76.0    NaN\n",
      "5         Italy  50.0  76.0  70.0  75.0    NaN\n",
      "6   Switzerland  34.0  68.0  70.0  58.0    NaN\n",
      "7        Mexico  81.0  30.0  69.0  82.0    NaN\n",
      "8       Ireland  28.0  70.0  68.0  35.0    NaN\n",
      "9       Jamaica  45.0  39.0  68.0  13.0    NaN\n",
      "10        China  80.0  20.0  66.0  40.0  118.0\n"
     ]
    }
   ],
   "source": [
    "#import pandas\n",
    "import pandas as pd\n",
    "\n",
    "#little tutorial for help\n",
    "#https://medium.com/@ageitgey/quick-tip-the-easiest-way-to-grab-data-out-of-a-web-page-in-python-7153cecfca58\n",
    "\n",
    "#scrap the first dataset and get the Hofstede cultural dimension data \n",
    "df = pd.read_html(\"http://www.clearlycultural.com/geert-hofstede-cultural-dimensions/masculinity/\", header=0)\n",
    "\n",
    "#save first table on page as df1\n",
    "df1 = (df[1])\n",
    "\n",
    "#Remove column 0 from table df1 and save cleaned table to df2\n",
    "df2 = df1[1:]\n",
    "\n",
    "#print the head of the table df2\n",
    "print (df2.head(10))\n",
    "\n",
    "#save df2 table as hofstede.csv\n",
    "df2.to_csv('hofstede.csv')"
   ]
  },
  {
   "cell_type": "code",
   "execution_count": 74,
   "metadata": {},
   "outputs": [
    {
     "name": "stdout",
     "output_type": "stream",
     "text": [
      "           Country  Gender gap  Year\n",
      "1          Austria       17.73  2014\n",
      "2          Belgium        5.91  2013\n",
      "3           Canada       18.63  2015\n",
      "4            Chile       16.67  2013\n",
      "5   Czech Republic       16.46  2013\n",
      "6          Denmark        6.77  2013\n",
      "7          Estonia       26.60  2010\n",
      "8          Finland       19.61  2014\n",
      "9           France       13.67  2012\n",
      "10         Germany       17.08  2014\n"
     ]
    }
   ],
   "source": [
    "#scrap the second dataset and get the gender gap wage (ggw) data from wikipedia\n",
    "dfggw = pd.read_html(\"https://en.wikipedia.org/wiki/Gender_pay_gap\", header=0)\n",
    "\n",
    "#save desired table of the page as dfggw1\n",
    "dfggw1 = (dfggw[1])\n",
    "\n",
    "#Select the desired data from table dfggw1 and save cleaned table as dfggw2\n",
    "dfggw2 = dfggw1[1:]\n",
    "\n",
    "#print the head of the table dfggw2\n",
    "print (dfggw2.head(10))\n",
    "\n",
    "#save dfgwg2 table as gender_gap_wage.csv\n",
    "dfggw2.to_csv('gender_gap_wage.csv')"
   ]
  },
  {
   "cell_type": "code",
   "execution_count": 75,
   "metadata": {},
   "outputs": [
    {
     "name": "stdout",
     "output_type": "stream",
     "text": [
      "     Country   PDI   IDV   MAS   UAI   LTO\n",
      "1      Japan  54.0  46.0  95.0  92.0  80.0\n",
      "2    Hungary  46.0  55.0  88.0  82.0   NaN\n",
      "3    Austria  11.0  55.0  79.0  70.0   NaN\n",
      "4  Venezuela  81.0  12.0  73.0  76.0   NaN\n",
      "5      Italy  50.0  76.0  70.0  75.0   NaN\n",
      "          Country  Gender gap  Year\n",
      "1         Austria       17.73  2014\n",
      "2         Belgium        5.91  2013\n",
      "3          Canada       18.63  2015\n",
      "4           Chile       16.67  2013\n",
      "5  Czech Republic       16.46  2013\n",
      "          Country   PDI   IDV   MAS   UAI   LTO  Gender gap  Year\n",
      "0           Japan  54.0  46.0  95.0  92.0  80.0       25.87  2014\n",
      "1         Hungary  46.0  55.0  88.0  82.0   NaN        9.52  2015\n",
      "2         Austria  11.0  55.0  79.0  70.0   NaN       17.73  2014\n",
      "3           Italy  50.0  76.0  70.0  75.0   NaN        5.56  2014\n",
      "4     Switzerland  34.0  68.0  70.0  58.0   NaN       14.50  2014\n",
      "5          Mexico  81.0  30.0  69.0  82.0   NaN       16.67  2015\n",
      "6         Ireland  28.0  70.0  68.0  35.0   NaN       15.17  2014\n",
      "7         Germany  35.0  67.0  66.0  65.0  31.0       17.08  2014\n",
      "8  United Kingdom  35.0  89.0  66.0  35.0  25.0       16.93  2015\n",
      "9          Poland  68.0  60.0  64.0  93.0   NaN       11.07  2014\n"
     ]
    }
   ],
   "source": [
    "#opens dataset hofstede.csv\n",
    "hos = pd.read_csv('hofstede.csv', index_col=0)\n",
    "\n",
    "#print the head of hofstede.csv\n",
    "print(hos.head(5))\n",
    "\n",
    "#prints dataset hofstede.csv\n",
    "ggw = pd.read_csv('gender_gap_wage.csv', index_col=0)\n",
    "\n",
    "print (ggw.head(5))\n",
    "\n",
    "#merges two datasets: gender gap wage and hofstede.csv on 'Country'\n",
    "dataset = pd.merge(hos, ggw, on=['Country'])\n",
    "print(dataset.head(10))\n",
    "\n",
    "#Saves dataset as data.csv\n",
    "dataset.to_csv('data.csv')"
   ]
  },
  {
   "cell_type": "code",
   "execution_count": 72,
   "metadata": {},
   "outputs": [
    {
     "name": "stdout",
     "output_type": "stream",
     "text": [
      "config.py  gender_gap_wage.csv  Hofstede Cultural Dimensions Project.ipynb\r\n",
      "data.csv   hofstede.csv\r\n"
     ]
    }
   ],
   "source": [
    "ls"
   ]
  }
 ],
 "metadata": {
  "kernelspec": {
   "display_name": "Python 3",
   "language": "python",
   "name": "python3"
  },
  "language_info": {
   "codemirror_mode": {
    "name": "ipython",
    "version": 3
   },
   "file_extension": ".py",
   "mimetype": "text/x-python",
   "name": "python",
   "nbconvert_exporter": "python",
   "pygments_lexer": "ipython3",
   "version": "3.5.2"
  }
 },
 "nbformat": 4,
 "nbformat_minor": 2
}
